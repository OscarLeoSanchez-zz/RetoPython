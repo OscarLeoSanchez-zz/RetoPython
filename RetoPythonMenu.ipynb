{
  "nbformat": 4,
  "nbformat_minor": 0,
  "metadata": {
    "colab": {
      "name": "Untitled9.ipynb",
      "provenance": [],
      "include_colab_link": true
    },
    "kernelspec": {
      "name": "python3",
      "display_name": "Python 3"
    },
    "language_info": {
      "name": "python"
    }
  },
  "cells": [
    {
      "cell_type": "markdown",
      "metadata": {
        "id": "view-in-github",
        "colab_type": "text"
      },
      "source": [
        "<a href=\"https://colab.research.google.com/github/OscarLeoSanchez/RetoPython/blob/main/RetoPythonMenu.ipynb\" target=\"_parent\"><img src=\"https://colab.research.google.com/assets/colab-badge.svg\" alt=\"Open In Colab\"/></a>"
      ]
    },
    {
      "cell_type": "code",
      "metadata": {
        "colab": {
          "base_uri": "https://localhost:8080/"
        },
        "id": "MjLjMMy5ws2I",
        "outputId": "6e35e803-5bba-4f5d-fbde-9562d84c4d73"
      },
      "source": [
        "opciones = {\n",
        "    1 : 'Cambiar Contraseña',\n",
        "    2 : 'Ingresar coordenadas actuales',\n",
        "    3 : 'Ubicar zona wifi más cercana', \n",
        "    4 : 'Guardar archivo con ubicación cercana', \n",
        "    5 : 'Actualizar registros de zonas wifi desde archivo',\n",
        "    6 : 'Elegir opción de menú favorita',\n",
        "    7 : 'Cerrar sesió',\n",
        "}\n",
        "\n",
        "def imprimirMenu(menu):\n",
        "  print('------- M E N Ú --------\\n ')\n",
        "  for key in menu:\n",
        "    # print(key, ' : ', menu[key])\n",
        "    print(f'{key}. {menu[key]}')\n",
        "condicion = True\n",
        "contador_error = 0\n",
        "while condicion:\n",
        "  imprimirMenu(opciones)\n",
        "  # print('Elija una opción: ', end=' ')\n",
        "  # try:\n",
        "  caso = int(input('Elija una opción: '))\n",
        "  # except Exception:\n",
        "  #   print('Valor no permitido') \n",
        "  if caso == 6:\n",
        "    favorita = int(input('Seleccione opción favorita: '))\n",
        "    if 1<= favorita <= 5: #favorita < 1 and favorita > 5:\n",
        "      # grupo = 14586\n",
        "      prim_adivinanza = int(input('Si me giras pierdo tres unidades por eso debes colocarme siempre de pie, la respuesta es: '))\n",
        "      if prim_adivinanza == 9:\n",
        "        seg_adivinanza = int(input('Me separaron de mi hermano siamés, antes era un ocho y ahora soy un... '))\n",
        "        if seg_adivinanza == 3:\n",
        "          \n",
        "          # for k9\n",
        "          opcion_aux = {}\n",
        "          primera_op = opciones[1] # variable auxiliar\n",
        "          opciones[0] = opciones[favorita]\n",
        "          opciones.pop(favorita)\n",
        "\n",
        "          i = 2\n",
        "          for key, value in opciones.items():\n",
        "          \n",
        "            if key == 0:\n",
        "              opcion_aux[1] = value\n",
        "            else:\n",
        "              opcion_aux[i]= value\n",
        "              i = i+1\n",
        "            \n",
        "          opciones = dict(sorted(opcion_aux.items()))\n",
        "          # primera_op = opciones[1] # variable auxiliar\n",
        "          # opciones[1] = opciones[favorita]\n",
        "          # opciones[favorita] = primera_op\n",
        "          \n",
        "        else:\n",
        "          print('Error')\n",
        "      else: \n",
        "        print('Error')\n",
        "    else:\n",
        "      print('Error')\n",
        "      break\n",
        "\n",
        "    # print(favorita)\n",
        "  elif 1 <= caso <= 5:\n",
        "    print('Usted ha elegido la opción número ',caso)\n",
        "    break\n",
        "\n",
        "\n",
        "  elif caso == 7:\n",
        "    print('Hasta pronto.!')\n",
        "    break\n",
        "\n",
        "  elif caso <1 or caso >7:\n",
        "    contador_error += 1\n",
        "    if contador_error == 3:\n",
        "      print('Error')\n",
        "      break\n",
        "    else:\n",
        "      print('Error')\n",
        "\n",
        "\n",
        "\n"
      ],
      "execution_count": 62,
      "outputs": [
        {
          "output_type": "stream",
          "text": [
            "------- M E N Ú --------\n",
            " \n",
            "1. Cambiar Contraseña\n",
            "2. Ingresar coordenadas actuales\n",
            "3. Ubicar zona wifi más cercana\n",
            "4. Guardar archivo con ubicación cercana\n",
            "5. Actualizar registros de zonas wifi desde archivo\n",
            "6. Elegir opción de menú favorita\n",
            "7. Cerrar sesió\n",
            "Elija una opción: 5\n",
            "Usted ha elegido la opción número  5\n"
          ],
          "name": "stdout"
        }
      ]
    }
  ]
}